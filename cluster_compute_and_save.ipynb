{
 "metadata": {
  "name": "",
  "signature": "sha256:c4aa725896433d97845c4cf7bd765dc814449425b046e72bc13f29ba7cf1eba0"
 },
 "nbformat": 3,
 "nbformat_minor": 0,
 "worksheets": [
  {
   "cells": [
    {
     "cell_type": "code",
     "collapsed": false,
     "input": [
      "import pandas as pd\n",
      "import numpy as np\n",
      "import scipy as sp\n",
      "import matplotlib.pyplot as plt\n",
      "%pylab inline\n",
      "import sklearn as sk"
     ],
     "language": "python",
     "metadata": {},
     "outputs": [
      {
       "output_type": "stream",
       "stream": "stdout",
       "text": [
        "Populating the interactive namespace from numpy and matplotlib\n"
       ]
      }
     ],
     "prompt_number": 1
    },
    {
     "cell_type": "code",
     "collapsed": false,
     "input": [
      "npzfile= np.load('simSeqs.npz')"
     ],
     "language": "python",
     "metadata": {},
     "outputs": [],
     "prompt_number": 2
    },
    {
     "cell_type": "code",
     "collapsed": false,
     "input": [
      "data, id_lst =  npzfile['data'], npzfile['id']"
     ],
     "language": "python",
     "metadata": {},
     "outputs": [],
     "prompt_number": 3
    },
    {
     "cell_type": "code",
     "collapsed": false,
     "input": [
      "def cluster_sim(seq, thres):\n",
      "    '''\n",
      "    this function takes each numpy array, judge the seq by thres, to 0 or 1 for each element,\n",
      "    and then assign every cluster as starting 0, with all the consecutive following 1s;\n",
      "    seq is a numpy array, and thres is  a scalar value\n",
      "    '''\n",
      "    \n",
      "    seq = pd.Series(seq)\n",
      "    seq_thres = (seq > thres).astype('int')\n",
      "    \n",
      "    '''\n",
      "    clustering algorithm is:\n",
      "    create another sequence of the same length of 'seq'\n",
      "    the sequence starts from 1, increases by 1 whenever the 'seq' generates a new cluster--meet a 0 in seq\n",
      "    assign all corresponding element into the same number \n",
      "    in this way, it is easy to store data, and check the statistics of the 'seq'\n",
      "    --this assume that the data sequence is: starting with always 1 for the first song, and then the later sequence\n",
      "    is about the similarity between the current one with its previous song\n",
      "    '''\n",
      "    seq = pd.Series(seq)\n",
      "    seq_thres = (seq >= thres).astype('int')\n",
      "    result = pd.DataFrame({'up_threshold': seq_thres})\n",
      "    cluster_id = 1\n",
      "    cluster_seq = [1] #in case the sequence is not starting from 1\n",
      "    for ele in seq_thres[1:]: \n",
      "        if ele == 0:\n",
      "            cluster_id +=1\n",
      "        cluster_seq.append(cluster_id)\n",
      "    result['cluster_seq'] = cluster_seq\n",
      "    return result"
     ],
     "language": "python",
     "metadata": {},
     "outputs": [],
     "prompt_number": 4
    },
    {
     "cell_type": "code",
     "collapsed": false,
     "input": [
      "thres_set = np.linspace(0.4, 0.9, 6)\n",
      "#the first run includes 0.4,0.5,0.6\n",
      "#thres_set_sub = thres_set[:3]\n",
      "#the second run includes 0.7,0.8,0.9\n",
      "thres_set_sub = thres_set[3:]\n",
      "thres_set_sub"
     ],
     "language": "python",
     "metadata": {},
     "outputs": [
      {
       "metadata": {},
       "output_type": "pyout",
       "prompt_number": 5,
       "text": [
        "array([ 0.7,  0.8,  0.9])"
       ]
      }
     ],
     "prompt_number": 5
    },
    {
     "cell_type": "code",
     "collapsed": false,
     "input": [
      "#now compute the cluster sequence for each subj,--each numpy row\n",
      "#and save the data with the subjectid into a pandas dataframe\n",
      "'''\n",
      "the whole procedure doesnot fit the memory, so split into two sets to process\n",
      "first is [0.4, 0.5, 0.6] and the second part is  [0.7-0.9]\n",
      "'''\n",
      "thres_set = np.linspace(0.4, 0.9, 6)\n",
      "thres_set_sub = thres_set[3:]\n",
      "\n",
      "total_user_data = pd.DataFrame(columns = ['user_id','threshold', 'sim', 'up_threshold','cluster_seq' ])\n",
      "for thres in thres_set_sub:\n",
      "    print thres\n",
      "    for i in range(len(data)):\n",
      "    #for i in range(5):\n",
      "        #print i\n",
      "        each_user_data = pd.DataFrame(columns =  ['user_id','threshold', 'sim', 'up_threshold','cluster_seq'])\n",
      "        sim = data[i]\n",
      "        user_id = id_lst[i]\n",
      "        #thres = 0.6\n",
      "        result = cluster_sim(sim, thres)\n",
      "        each_user_data['up_threshold'] = result['up_threshold']\n",
      "        each_user_data['cluster_seq'] = result['cluster_seq']\n",
      "        each_user_data['user_id'] = user_id\n",
      "        each_user_data['threshold'] = thres\n",
      "        each_user_data['sim'] = sim\n",
      "        total_user_data = total_user_data.append(each_user_data)\n",
      "\n",
      "    #print total_user_data\n"
     ],
     "language": "python",
     "metadata": {},
     "outputs": [
      {
       "output_type": "stream",
       "stream": "stdout",
       "text": [
        "0.7\n",
        "0.8"
       ]
      },
      {
       "output_type": "stream",
       "stream": "stdout",
       "text": [
        "\n",
        "0.9"
       ]
      },
      {
       "output_type": "stream",
       "stream": "stdout",
       "text": [
        "\n"
       ]
      }
     ],
     "prompt_number": 6
    },
    {
     "cell_type": "code",
     "collapsed": false,
     "input": [
      "#save the data into tmp file and then save the tmp file as csv type\n",
      "tmp_data = total_user_data\n",
      "print len(tmp_data)"
     ],
     "language": "python",
     "metadata": {},
     "outputs": [
      {
       "output_type": "stream",
       "stream": "stdout",
       "text": [
        "52140441\n"
       ]
      }
     ],
     "prompt_number": 9
    },
    {
     "cell_type": "raw",
     "metadata": {},
     "source": [
      "tmp_data.to_csv('total_user_total_threshold_data_tmp7to9.csv', header = True, index = False)"
     ]
    },
    {
     "cell_type": "code",
     "collapsed": false,
     "input": [
      "print tmp_data[:10]"
     ],
     "language": "python",
     "metadata": {},
     "outputs": [
      {
       "output_type": "stream",
       "stream": "stdout",
       "text": [
        "   user_id  threshold       sim  up_threshold  cluster_seq\n",
        "0  4312689        0.7  1.000000             1            1\n",
        "1  4312689        0.7  0.239339             0            2\n",
        "2  4312689        0.7  1.000000             1            2\n",
        "3  4312689        0.7  1.000000             1            2\n",
        "4  4312689        0.7  1.000000             1            2\n",
        "5  4312689        0.7  1.000000             1            2\n",
        "6  4312689        0.7  1.000000             1            2\n",
        "7  4312689        0.7  1.000000             1            2\n",
        "8  4312689        0.7  1.000000             1            2\n",
        "9  4312689        0.7  1.000000             1            2\n"
       ]
      }
     ],
     "prompt_number": 11
    }
   ],
   "metadata": {}
  }
 ]
}