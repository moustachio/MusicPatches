{
 "metadata": {
  "name": "",
  "signature": "sha256:27cab583781b247253a103f24ed008708dff3968269240a6affad4e8c48b584a"
 },
 "nbformat": 3,
 "nbformat_minor": 0,
 "worksheets": [
  {
   "cells": [
    {
     "cell_type": "code",
     "collapsed": false,
     "input": [
      "import pandas as pd\n",
      "%matplotlib inline\n",
      "from matplotlib import pyplot as plt\n",
      "ddir = '../data/'\n",
      "data = pd.read_table(ddir+'scrobble_counts',header=None)"
     ],
     "language": "python",
     "metadata": {},
     "outputs": [],
     "prompt_number": 13
    },
    {
     "cell_type": "code",
     "collapsed": false,
     "input": [
      "data[0].describe()"
     ],
     "language": "python",
     "metadata": {},
     "outputs": [
      {
       "metadata": {},
       "output_type": "pyout",
       "prompt_number": 10,
       "text": [
        "count    104829.000000\n",
        "mean      19932.205916\n",
        "std       28875.193426\n",
        "min           1.000000\n",
        "25%        1693.000000\n",
        "50%        9050.000000\n",
        "75%       26888.000000\n",
        "max      542827.000000\n",
        "dtype: float64"
       ]
      }
     ],
     "prompt_number": 10
    },
    {
     "cell_type": "code",
     "collapsed": false,
     "input": [
      "fig,ax = plt.subplots(1,1)\n",
      "data[0][data[0]<=100000].hist(bins=100,ax=ax)\n",
      "ax.set_xlim(0,100000)\n",
      "ax.set_xlabel('Total Scrobbles')\n",
      "ax.set_ylabel('Number of users')"
     ],
     "language": "python",
     "metadata": {},
     "outputs": [
      {
       "metadata": {},
       "output_type": "pyout",
       "prompt_number": 15,
       "text": [
        "<matplotlib.text.Text at 0x1164c16d0>"
       ]
      },
      {
       "metadata": {},
       "output_type": "display_data",
       "png": "[encoded data removed]",
       "text": [
        "<matplotlib.figure.Figure at 0x114e4dc50>"
       ]
      }
     ],
     "prompt_number": 15
    }
   ],
   "metadata": {}
  }
 ]
}