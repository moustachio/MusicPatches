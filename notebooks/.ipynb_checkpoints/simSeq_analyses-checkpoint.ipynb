{
 "metadata": {
  "name": "",
  "signature": "sha256:e9db4fbe9e134e329fcfd922048221fe575832c20e5055c1a0e0bc06774551e8"
 },
 "nbformat": 3,
 "nbformat_minor": 0,
 "worksheets": [
  {
   "cells": [
    {
     "cell_type": "code",
     "collapsed": false,
     "input": [
      "import numpy as np\n",
      "import pandas as pd\n",
      "from matplotlib import pyplot as plt\n",
      "from matplotlib.ticker import MultipleLocator, FormatStrFormatter\n",
      "import powerlaw\n",
      "\n",
      "%matplotlib inline\n",
      "plt.rc('text', usetex=True)"
     ],
     "language": "python",
     "metadata": {},
     "outputs": [],
     "prompt_number": 1
    },
    {
     "cell_type": "code",
     "collapsed": false,
     "input": [
      "#rawData = open('simSeq_sample.tsv').readlines()[:50]\n",
      "rawData = open('simSeq_sample.tsv').read()\n",
      "rawData[:100].split()"
     ],
     "language": "python",
     "metadata": {},
     "outputs": [
      {
       "metadata": {},
       "output_type": "pyout",
       "prompt_number": 98,
       "text": [
        "['8389007',\n",
        " '1.0',\n",
        " '1.0',\n",
        " 'None',\n",
        " 'None',\n",
        " '1.0',\n",
        " '1.0',\n",
        " 'None',\n",
        " 'None',\n",
        " 'None',\n",
        " '0.0',\n",
        " '0.0',\n",
        " '0.524518',\n",
        " '0.0',\n",
        " 'None',\n",
        " 'None',\n",
        " '1.0',\n",
        " 'None',\n",
        " '1.0',\n",
        " 'None',\n",
        " 'No']"
       ]
      }
     ],
     "prompt_number": 98
    },
    {
     "cell_type": "code",
     "collapsed": false,
     "input": [
      "nBins=25\n",
      "mat_distance = np.empty((len(rawData),nBins))\n",
      "for idx,seq in enumerate(rawData):\n",
      "    current = 1 - np.array([eval(i) for i in seq.strip().split('\\t')[1:]],dtype=np.float)\n",
      "    current = current[(current!=0) & (current!=1)]\n",
      "    \n",
      "    \n",
      "    histVals =  np.histogram(current,bins=np.logspace(-2, 0, nBins+1),density=False)[0]\n",
      "    #histVals =  np.histogram(current[~np.isnan(current)],bins=nBins,density=False)[0]\n",
      "    \n",
      "    mat_distance[idx] = histVals / float(histVals.sum())\n",
      "\"\"\"\n",
      "mat_sim = np.empty((len(rawData),nBins))\n",
      "for idx,seq in enumerate(rawData):\n",
      "    current = np.array([eval(i) for i in seq.strip().split('\\t')[1:]],dtype=np.float)\n",
      "    current = current[current!=1]\n",
      "    \n",
      "    histVals =  np.histogram(current[~np.isnan(current)],bins=np.logspace(-2,0, nBins+1),density=False)[0]\n",
      "    mat_sim[idx] = histVals / float(histVals.sum())\n",
      "\"\"\""
     ],
     "language": "python",
     "metadata": {},
     "outputs": [
      {
       "metadata": {},
       "output_type": "pyout",
       "prompt_number": 73,
       "text": [
        "\"\\nmat_sim = np.empty((len(rawData),nBins))\\nfor idx,seq in enumerate(rawData):\\n    current = np.array([eval(i) for i in seq.strip().split('\\t')[1:]],dtype=np.float)\\n    current = current[current!=1]\\n    \\n    histVals =  np.histogram(current[~np.isnan(current)],bins=np.logspace(-2,0, nBins+1),density=False)[0]\\n    mat_sim[idx] = histVals / float(histVals.sum())\\n\""
       ]
      }
     ],
     "prompt_number": 73
    },
    {
     "cell_type": "code",
     "collapsed": false,
     "input": [],
     "language": "python",
     "metadata": {},
     "outputs": [
      {
       "ename": "NameError",
       "evalue": "name 'rawD' is not defined",
       "output_type": "pyerr",
       "traceback": [
        "\u001b[1;31m---------------------------------------------------------------------------\u001b[0m\n\u001b[1;31mNameError\u001b[0m                                 Traceback (most recent call last)",
        "\u001b[1;32m<ipython-input-39-5f33340e8ace>\u001b[0m in \u001b[0;36m<module>\u001b[1;34m()\u001b[0m\n\u001b[1;32m----> 1\u001b[1;33m \u001b[0mrawD\u001b[0m\u001b[1;33m\u001b[0m\u001b[0m\n\u001b[0m",
        "\u001b[1;31mNameError\u001b[0m: name 'rawD' is not defined"
       ]
      }
     ],
     "prompt_number": 39
    },
    {
     "cell_type": "code",
     "collapsed": false,
     "input": [
      "fig,axes=plt.subplots(1,2,figsize=(12,6))\n",
      "\n",
      "#ax= axes[0]\n",
      "#ax.plot(mat_sim.mean(0))\n",
      "#ax.set_yscale('log')\n",
      "#ax.set_xscale('log')\n",
      "\n",
      "ax=axes[1]\n",
      "ax.plot(mat_distance.mean(0))\n",
      "ax.set_yscale('log')\n",
      "ax.set_xticklabels(['%.02f' %i for i in 10**np.log10(np.logspace(-2, 0, 6))])\n",
      "#print [i**1.2287 for i in 10**np.log10(np.logspace(-2, 0, 25))]\n",
      "#plot([(i**1.2287) for i in 10**np.log10(np.logspace(-2, 0, 25))])\n",
      "#ax.set_xscale('log')\n",
      "\n",
      "\n",
      "\n",
      "#ax.set_xscale('log')\n",
      "#ax.get_xaxis().get_major_formatter().set_powerlimits((0, 0))\n",
      "#ax.set_xticks(np.log10(np.logspace(-2, 0, nBins)))\n",
      "#ax.set_xticklabels([r'$10^{%s}$' % i for i in np.log10(np.logspace(-2, 0, nBins))])\n",
      "#majorFormatter = FormatStrFormatter('%e')\n",
      "#ax.xaxis.set_major_formatter(majorFormatter)"
     ],
     "language": "python",
     "metadata": {},
     "outputs": [
      {
       "metadata": {},
       "output_type": "pyout",
       "prompt_number": 75,
       "text": [
        "[<matplotlib.text.Text at 0x1278ffd0>,\n",
        " <matplotlib.text.Text at 0x11ac1a20>,\n",
        " <matplotlib.text.Text at 0x11accb00>,\n",
        " <matplotlib.text.Text at 0x11acc4a8>,\n",
        " <matplotlib.text.Text at 0x11acceb8>,\n",
        " <matplotlib.text.Text at 0x11acebe0>]"
       ]
      },
      {
       "metadata": {},
       "output_type": "display_data",
       "png": "[encoded data removed]",
       "text": [
        "<matplotlib.figure.Figure at 0x11999c50>"
       ]
      }
     ],
     "prompt_number": 75
    },
    {
     "cell_type": "code",
     "collapsed": false,
     "input": [
      "data = np.array([])\n",
      "out = open('simSeq_sample_cleaned.tsv','w')\n",
      "\n",
      "cnt = 0\n",
      "for line in open('simSeq_sample.tsv'):\n",
      "    if cnt ==100:\n",
      "        break\n",
      "    line = line.strip().split('\\t')[1:]\n",
      "    if len(line)>100000:\n",
      "        continue\n",
      "    for val in line:\n",
      "        if val == 'None':\n",
      "            continue\n",
      "        else:\n",
      "            fl = float(val)\n",
      "            if (fl==1.0) or (fl==0.0):\n",
      "                continue\n",
      "        out.write(str(1-fl)+'\\t')\n",
      "    cnt += 1\n",
      "print cnt    \n",
      "out.close()\n"
     ],
     "language": "python",
     "metadata": {},
     "outputs": [
      {
       "output_type": "stream",
       "stream": "stdout",
       "text": [
        "100\n"
       ]
      }
     ],
     "prompt_number": 62
    },
    {
     "cell_type": "code",
     "collapsed": false,
     "input": [
      "a=np.array([1,2])\n",
      "a.fill"
     ],
     "language": "python",
     "metadata": {},
     "outputs": [],
     "prompt_number": 43
    },
    {
     "cell_type": "code",
     "collapsed": false,
     "input": [
      "x = np.loadtxt('simSeq_sample_cleaned.tsv',dtype=np.float)\n",
      "print x.shape\n",
      "results = powerlaw.Fit(x)\n",
      "print results.power_law.alpha\n",
      "print results.power_law.xmin\n",
      "#R, p = results.distribution_compare('power_law', 'lognormal')"
     ],
     "language": "python",
     "metadata": {},
     "outputs": [
      {
       "output_type": "stream",
       "stream": "stdout",
       "text": [
        "(699687L,)\n",
        "Calculating best minimal value for power law fit"
       ]
      },
      {
       "output_type": "stream",
       "stream": "stdout",
       "text": [
        "\n",
        "1059.32895275"
       ]
      },
      {
       "output_type": "stream",
       "stream": "stdout",
       "text": [
        "\n",
        "0.99324162\n"
       ]
      }
     ],
     "prompt_number": 64
    },
    {
     "cell_type": "code",
     "collapsed": false,
     "input": [
      "data =pd.read_table('../data/simSeqs_sample.tsv',nrows=10,header=None,na_values=['None'])\n",
      "data = 1 - data.drop(0,axis=1)\n",
      "n = 10\n",
      "bins = 100\n",
      "result = np.zeros(bins)\n",
      "#fig,axes = plt.subplots(n,1,figsize=(6,4*n))\n",
      "#random_users = np.random.randint(0,len(data),n)\n",
      "#for i,row in enumerate(random_users):\n",
      "for row in xrange(len(data)):\n",
      "    x=data.iloc[row]\n",
      "    #result = x[(x>0)&(x<1)].hist(bins=100,ax=axes[i])\n",
      "    count,division = np.histogram(x[(x>0)&(x<1)],bins=bins)\n",
      "    result += count"
     ],
     "language": "python",
     "metadata": {},
     "outputs": [],
     "prompt_number": 39
    },
    {
     "cell_type": "code",
     "collapsed": false,
     "input": [
      "bins = 100\n",
      "result = np.zeros(bins)\n",
      "for n,row in enumerate(open('../data/simSeqs_sample.tsv')):\n",
      "    row = row.strip().split('\\t')[1:]\n",
      "    row = [np.nan if i=='None' else i for i in row]\n",
      "    x = 1-np.array(row,dtype=np.float)\n",
      "    count,division = np.histogram(x,bins=bins) #x[(x>0)&(x<1)]\n",
      "    result += count\n",
      "plt.plot(result)\n",
      "print n"
     ],
     "language": "python",
     "metadata": {},
     "outputs": [
      {
       "output_type": "stream",
       "stream": "stdout",
       "text": [
        "999\n"
       ]
      },
      {
       "metadata": {},
       "output_type": "display_data",
       "png": "[encoded data removed]",
       "text": [
        "<matplotlib.figure.Figure at 0x17fa0390>"
       ]
      }
     ],
     "prompt_number": 52
    },
    {
     "cell_type": "code",
     "collapsed": false,
     "input": [
      "fig,ax=plt.subplots(1,1)\n",
      "ax.plot(np.concatenate([[0],result]))\n",
      "ax.set_xscale('log')\n",
      "ax.set_yscale('log')"
     ],
     "language": "python",
     "metadata": {},
     "outputs": [
      {
       "metadata": {},
       "output_type": "display_data",
       "png": "[encoded data removed]",
       "text": [
        "<matplotlib.figure.Figure at 0x160760f0>"
       ]
      }
     ],
     "prompt_number": 62
    },
    {
     "cell_type": "code",
     "collapsed": false,
     "input": [
      "np.concatenate([[0],result])"
     ],
     "language": "python",
     "metadata": {},
     "outputs": [
      {
       "metadata": {},
       "output_type": "pyout",
       "prompt_number": 61,
       "text": [
        "array([  0.00000000e+00,   3.41760000e+04,   2.20000000e+01,\n",
        "         1.00000000e+01,   7.00000000e+00,   1.30000000e+01,\n",
        "         2.30000000e+01,   3.10000000e+01,   6.50000000e+01,\n",
        "         2.10000000e+01,   7.50000000e+01,   2.32000000e+02,\n",
        "         7.60000000e+01,   1.08000000e+02,   1.00000000e+02,\n",
        "         1.44000000e+02,   1.50000000e+02,   1.52000000e+02,\n",
        "         2.62000000e+02,   1.87000000e+02,   1.32000000e+02,\n",
        "         2.18000000e+02,   2.53000000e+02,   1.44000000e+02,\n",
        "         2.26000000e+02,   1.60000000e+02,   1.90000000e+02,\n",
        "         1.52000000e+02,   2.84000000e+02,   1.67000000e+02,\n",
        "         2.53000000e+02,   2.64000000e+02,   2.39000000e+02,\n",
        "         3.28000000e+02,   3.22000000e+02,   2.43000000e+02,\n",
        "         2.82000000e+02,   2.17000000e+02,   2.38000000e+02,\n",
        "         2.59000000e+02,   2.50000000e+02,   4.78000000e+02,\n",
        "         2.29000000e+02,   3.28000000e+02,   2.50000000e+02,\n",
        "         3.47000000e+02,   2.42000000e+02,   3.21000000e+02,\n",
        "         3.41000000e+02,   2.78000000e+02,   2.93000000e+02,\n",
        "         1.33000000e+03,   4.44000000e+02,   3.35000000e+02,\n",
        "         3.94000000e+02,   3.48000000e+02,   3.69000000e+02,\n",
        "         3.97000000e+02,   3.65000000e+02,   4.17000000e+02,\n",
        "         3.00000000e+02,   3.72000000e+02,   3.43000000e+02,\n",
        "         3.68000000e+02,   3.35000000e+02,   3.75000000e+02,\n",
        "         3.39000000e+02,   3.38000000e+02,   3.16000000e+02,\n",
        "         3.53000000e+02,   3.58000000e+02,   2.91000000e+02,\n",
        "         2.50000000e+02,   2.57000000e+02,   2.56000000e+02,\n",
        "         2.00000000e+02,   2.82000000e+02,   2.20000000e+02,\n",
        "         1.98000000e+02,   2.34000000e+02,   2.34000000e+02,\n",
        "         2.21000000e+02,   2.12000000e+02,   1.95000000e+02,\n",
        "         1.91000000e+02,   2.23000000e+02,   1.79000000e+02,\n",
        "         1.91000000e+02,   2.16000000e+02,   1.72000000e+02,\n",
        "         1.56000000e+02,   1.65000000e+02,   1.53000000e+02,\n",
        "         1.57000000e+02,   1.55000000e+02,   1.70000000e+02,\n",
        "         1.37000000e+02,   2.00000000e+02,   1.28000000e+02,\n",
        "         1.69000000e+02,   7.09219000e+05])"
       ]
      }
     ],
     "prompt_number": 61
    }
   ],
   "metadata": {}
  }
 ]
}