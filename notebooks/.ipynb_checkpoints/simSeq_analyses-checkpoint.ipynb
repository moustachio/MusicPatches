{
 "metadata": {
  "name": "",
  "signature": "sha256:ada281269746fdfec110c6d528a5c8e6aac6df5b10ea2345a844c497209a9835"
 },
 "nbformat": 3,
 "nbformat_minor": 0,
 "worksheets": [
  {
   "cells": [
    {
     "cell_type": "code",
     "collapsed": false,
     "input": [
      "import numpy as np\n",
      "import pandas as pd\n",
      "from matplotlib import pyplot as plt\n",
      "from matplotlib.ticker import MultipleLocator, FormatStrFormatter\n",
      "import powerlaw\n",
      "\n",
      "%matplotlib inline\n",
      "plt.rc('text', usetex=True)"
     ],
     "language": "python",
     "metadata": {},
     "outputs": [],
     "prompt_number": 1
    },
    {
     "cell_type": "code",
     "collapsed": false,
     "input": [
      "#rawData = open('simSeq_sample.tsv').readlines()[:50]\n",
      "rawData = open('simSeq_sample.tsv').read()\n"
     ],
     "language": "python",
     "metadata": {},
     "outputs": [],
     "prompt_number": 2
    },
    {
     "cell_type": "code",
     "collapsed": false,
     "input": [
      "out = open('simSeq_sample_cleaned.tsv','w')\n",
      "\n",
      "cnt = 0\n",
      "for line in open('simSeq_sample.tsv'):\n",
      "    if cnt ==100:\n",
      "        break\n",
      "    line = line.strip().split('\\t')[1:]\n",
      "    if len(line)>100000:\n",
      "        continue\n",
      "    for val in line:\n",
      "        if val == 'None':\n",
      "            continue\n",
      "        else:\n",
      "            fl = float(val)\n",
      "            if (fl==1.0) or (fl==0.0):\n",
      "                continue\n",
      "        out.write(str(1-fl)+'\\t')\n",
      "    out.write('\\n')\n",
      "    cnt += 1\n",
      "print cnt    \n",
      "out.close()\n"
     ],
     "language": "python",
     "metadata": {},
     "outputs": [
      {
       "output_type": "stream",
       "stream": "stdout",
       "text": [
        "100\n"
       ]
      }
     ],
     "prompt_number": 27
    },
    {
     "cell_type": "code",
     "collapsed": false,
     "input": [
      "a=np.array([1,2])\n",
      "a.fill"
     ],
     "language": "python",
     "metadata": {},
     "outputs": [],
     "prompt_number": 43
    },
    {
     "cell_type": "code",
     "collapsed": false,
     "input": [
      "x = np.loadtxt('simSeq_sample_cleaned.tsv',dtype=np.float)\n",
      "print x.shape\n",
      "results = powerlaw.Fit(x)\n",
      "print results.power_law.alpha\n",
      "print results.power_law.xmin\n",
      "#R, p = results.distribution_compare('power_law', 'lognormal')"
     ],
     "language": "python",
     "metadata": {},
     "outputs": [
      {
       "output_type": "stream",
       "stream": "stdout",
       "text": [
        "(699687L,)\n",
        "Calculating best minimal value for power law fit"
       ]
      },
      {
       "output_type": "stream",
       "stream": "stdout",
       "text": [
        "\n",
        "1059.32895275"
       ]
      },
      {
       "output_type": "stream",
       "stream": "stdout",
       "text": [
        "\n",
        "0.99324162\n"
       ]
      }
     ],
     "prompt_number": 64
    },
    {
     "cell_type": "code",
     "collapsed": false,
     "input": [
      "data =pd.read_table('../data/simSeqs_sample.tsv',nrows=10,header=None,na_values=['None'])\n",
      "data = 1 - data.drop(0,axis=1)\n",
      "n = 10\n",
      "bins = 100\n",
      "result = np.zeros(bins)\n",
      "#fig,axes = plt.subplots(n,1,figsize=(6,4*n))\n",
      "#random_users = np.random.randint(0,len(data),n)\n",
      "#for i,row in enumerate(random_users):\n",
      "for row in xrange(len(data)):\n",
      "    x=data.iloc[row]\n",
      "    #result = x[(x>0)&(x<1)].hist(bins=100,ax=axes[i])\n",
      "    count,division = np.histogram(x[(x>0)&(x<1)],bins=bins)\n",
      "    result += count"
     ],
     "language": "python",
     "metadata": {},
     "outputs": [],
     "prompt_number": 39
    },
    {
     "cell_type": "code",
     "collapsed": false,
     "input": [
      "bins = 100\n",
      "result = np.zeros(bins)\n",
      "for n,row in enumerate(open('../data/simSeqs_sample.tsv')):\n",
      "    row = row.strip().split('\\t')[1:]\n",
      "    row = [np.nan if i=='None' else i for i in row]\n",
      "    x = 1-np.array(row,dtype=np.float)\n",
      "    count,division = np.histogram(x,bins=bins) #x[(x>0)&(x<1)]\n",
      "    result += count\n",
      "plt.plot(result)\n",
      "print n"
     ],
     "language": "python",
     "metadata": {},
     "outputs": [
      {
       "output_type": "stream",
       "stream": "stdout",
       "text": [
        "999\n"
       ]
      },
      {
       "metadata": {},
       "output_type": "display_data",
       "png": "[encoded data removed]",
       "text": [
        "<matplotlib.figure.Figure at 0x17fa0390>"
       ]
      }
     ],
     "prompt_number": 52
    },
    {
     "cell_type": "code",
     "collapsed": false,
     "input": [
      "fig,ax=plt.subplots(1,1)\n",
      "ax.plot(np.concatenate([[0],result]))\n",
      "ax.set_xscale('log')\n",
      "ax.set_yscale('log')"
     ],
     "language": "python",
     "metadata": {},
     "outputs": [
      {
       "metadata": {},
       "output_type": "display_data",
       "png": "[encoded data removed]",
       "text": [
        "<matplotlib.figure.Figure at 0x160760f0>"
       ]
      }
     ],
     "prompt_number": 62
    },
    {
     "cell_type": "markdown",
     "metadata": {},
     "source": [
      "# NEW, as of 12 Jan 2015"
     ]
    },
    {
     "cell_type": "code",
     "collapsed": false,
     "input": [
      "## CLEANED FILE HAS NO 0s, 1s, Nones, and is converted from sims to distances\n",
      "import numpy as np\n",
      "from matplotlib import pyplot as plt\n",
      "%matplotlib inline\n",
      "\n",
      "bins=25\n",
      "n=-1\n",
      "data = np.zeros(bins)\n",
      "for i,line in enumerate(open(\"E:/BTSync/Research.Archive/LastFM/MusicPatches/simSeqs_terms.tsv\")):\n",
      "    if i==n:\n",
      "        break\n",
      "    line = np.array([i for i in line.strip().split('\\t')[1:] if i !='None'],dtype=np.float)\n",
      "    line = 1-line[(line>0) & (line<1)]\n",
      "    if len(line)>0:\n",
      "        data += np.histogram(line,bins=bins,density=True)[0]\n",
      "    \n",
      "data /= i+1"
     ],
     "language": "python",
     "metadata": {},
     "outputs": [],
     "prompt_number": 92
    },
    {
     "cell_type": "code",
     "collapsed": false,
     "input": [
      "fig,ax = plt.subplots(1,1)\n",
      "ax.plot(data)\n",
      "ax.set_xscale('log')\n",
      "ax.set_yscale('log')\n",
      "ax.set_xlim(0,bins)"
     ],
     "language": "python",
     "metadata": {},
     "outputs": [
      {
       "metadata": {},
       "output_type": "pyout",
       "prompt_number": 97,
       "text": [
        "(1.0, 25)"
       ]
      },
      {
       "metadata": {},
       "output_type": "display_data",
       "png": "[encoded data removed]",
       "text": [
        "<matplotlib.figure.Figure at 0xcc3dac8>"
       ]
      }
     ],
     "prompt_number": 97
    },
    {
     "cell_type": "code",
     "collapsed": false,
     "input": [
      "pd.Series(data).describe()"
     ],
     "language": "python",
     "metadata": {},
     "outputs": [
      {
       "metadata": {},
       "output_type": "pyout",
       "prompt_number": 52,
       "text": [
        "count    6436.000000\n",
        "mean        0.636478\n",
        "std         0.219201\n",
        "min         0.032232\n",
        "25%         0.478379\n",
        "50%         0.663991\n",
        "75%         0.809732\n",
        "max         0.995389\n",
        "dtype: float64"
       ]
      }
     ],
     "prompt_number": 52
    },
    {
     "cell_type": "code",
     "collapsed": false,
     "input": [
      "plt.plot(np.histogram(data,bins=25,density=True)[0])"
     ],
     "language": "python",
     "metadata": {},
     "outputs": [
      {
       "metadata": {},
       "output_type": "pyout",
       "prompt_number": 53,
       "text": [
        "[<matplotlib.lines.Line2D at 0x119f9b5d0>]"
       ]
      },
      {
       "metadata": {},
       "output_type": "display_data",
       "png": "[encoded data removed]",
       "text": [
        "<matplotlib.figure.Figure at 0x10a2779d0>"
       ]
      }
     ],
     "prompt_number": 53
    },
    {
     "cell_type": "code",
     "collapsed": false,
     "input": [
      "import powerlaw\n",
      "\n",
      "fit = powerlaw.Fit(data, discrete=False)#,xmin=0.01)\n",
      "fig2 = fit.plot_pdf(color='b', linewidth=2)\n",
      "fit.power_law.plot_pdf(color='b', linestyle='--', ax=fig2)\n",
      "fit.plot_ccdf(color='r', linewidth=2, ax=fig2)\n",
      "fit.power_law.plot_ccdf(color='r', linestyle='--', ax=fig2)"
     ],
     "language": "python",
     "metadata": {},
     "outputs": [
      {
       "output_type": "stream",
       "stream": "stdout",
       "text": [
        "Calculating best minimal value for power law fit\n"
       ]
      },
      {
       "metadata": {},
       "output_type": "pyout",
       "prompt_number": 98,
       "text": [
        "<matplotlib.axes.AxesSubplot at 0xd659cc0>"
       ]
      },
      {
       "metadata": {},
       "output_type": "display_data",
       "png": "[encoded data removed]",
       "text": [
        "<matplotlib.figure.Figure at 0xd63b940>"
       ]
      }
     ],
     "prompt_number": 98
    },
    {
     "cell_type": "code",
     "collapsed": false,
     "input": [
      "data"
     ],
     "language": "python",
     "metadata": {},
     "outputs": [
      {
       "metadata": {},
       "output_type": "pyout",
       "prompt_number": 99,
       "text": [
        "array([  25447.91211035,   37308.95801191,   59403.35123249,\n",
        "         77375.51287979,   90945.51296866,  100784.42018305,\n",
        "        108746.56515451,  113786.08649351,  117580.87687418,\n",
        "        121593.29972013,  123612.86464574,  126184.58978762,\n",
        "        127041.34516859,  124258.5883919 ,  124498.41724988,\n",
        "        122574.37160961,  120593.48094544,  118967.79196558,\n",
        "        117096.9277664 ,  116038.0730091 ,  114750.12046597,\n",
        "        112152.36041819,  108813.64477829,  103563.51444975,\n",
        "        100973.37713309])"
       ]
      }
     ],
     "prompt_number": 99
    },
    {
     "cell_type": "code",
     "collapsed": false,
     "input": [
      "# use the numpy version to fit (usefortran=False is only needed if you installed the fortran version)\n",
      "myplfit=plfit.plfit(data,usefortran=False)\n",
      "# output should look something like this:\n",
      "# PYTHON plfit executed in 0.201362 seconds\n",
      "# xmin: 0.621393 n(>xmin): 263 alpha: 2.39465 +/- 0.0859979   Log-Likelihood: -238.959   ks: 0.0278864 p(ks): 0.986695\n",
      "\n",
      "# generate some plots\n",
      "from pylab import *\n",
      "figure(1)\n",
      "myplfit.plotpdf()\n",
      "\n",
      "figure(2)\n",
      "myplfit.plotcdf()"
     ],
     "language": "python",
     "metadata": {},
     "outputs": []
    }
   ],
   "metadata": {}
  }
 ]
}